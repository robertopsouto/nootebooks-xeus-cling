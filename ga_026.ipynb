{
 "cells": [
  {
   "cell_type": "markdown",
   "metadata": {},
   "source": [
    "## Usage\n",
    "\n",
    "<div style=\"background: #efffed;\n",
    "            border: 1px solid grey;\n",
    "            margin: 8px 0 8px 0;\n",
    "            text-align: center;\n",
    "            padding: 8px; \">\n",
    "    <i class=\"fa-play fa\" \n",
    "       style=\"font-size: 40px;\n",
    "              line-height: 40px;\n",
    "              margin: 8px;\n",
    "              color: #444;\">\n",
    "    </i>\n",
    "    <div>\n",
    "    To run the selected code cell, hit <pre style=\"background: #efffed\">Shift + Enter</pre>\n",
    "    </div>\n",
    "</div>"
   ]
  },
  {
   "cell_type": "code",
   "execution_count": null,
   "metadata": {},
   "outputs": [],
   "source": [
    "// C++ program for insertion sort  \n",
    "#include <bits/stdc++.h> \n",
    "using namespace std; "
   ]
  },
  {
   "cell_type": "code",
   "execution_count": null,
   "metadata": {},
   "outputs": [],
   "source": [
    "\n",
    "/* Function to sort an array using insertion sort*/\n",
    "void insertionSort(int arr[], int n)  \n",
    "{  \n",
    "    int i, key, j;  \n",
    "    for (i = 1; i < n; i++) \n",
    "    {  \n",
    "        key = arr[i];  \n",
    "        j = i - 1;  \n",
    "  \n",
    "        /* Move elements of arr[0..i-1], that are  \n",
    "        greater than key, to one position ahead  \n",
    "        of their current position */\n",
    "        while (j >= 0 && arr[j] > key) \n",
    "        {  \n",
    "            arr[j + 1] = arr[j];  \n",
    "            j = j - 1;  \n",
    "        }  \n",
    "        arr[j + 1] = key;  \n",
    "    }  \n",
    "}  "
   ]
  },
  {
   "cell_type": "code",
   "execution_count": null,
   "metadata": {},
   "outputs": [],
   "source": [
    "// A utility function to print an array of size n  \n",
    "void printArray(int arr[], int n)  \n",
    "{  \n",
    "    int i;  \n",
    "    for (i = 0; i < n; i++)  \n",
    "        cout << arr[i] << \" \";  \n",
    "    cout << endl; \n",
    "}  "
   ]
  },
  {
   "cell_type": "code",
   "execution_count": null,
   "metadata": {},
   "outputs": [],
   "source": [
    "    int arr[] = { 12, 11, 13, 5, 6 };  \n",
    "    int n = sizeof(arr) / sizeof(arr[0]);  \n",
    "  \n",
    "    insertionSort(arr, n);  \n",
    "    printArray(arr, n);  "
   ]
  },
  {
   "cell_type": "markdown",
   "metadata": {},
   "source": [
    "$$\\Theta(n^2)$$"
   ]
  }
 ],
 "metadata": {
  "kernelspec": {
   "display_name": "C++14",
   "language": "C++14",
   "name": "xcpp14"
  },
  "language_info": {
   "codemirror_mode": "text/x-c++src",
   "file_extension": ".cpp",
   "mimetype": "text/x-c++src",
   "name": "c++",
   "version": "14"
  }
 },
 "nbformat": 4,
 "nbformat_minor": 2
}
